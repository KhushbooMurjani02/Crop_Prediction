{
 "cells": [
  {
   "cell_type": "code",
   "execution_count": 8,
   "metadata": {},
   "outputs": [
    {
     "data": {
      "text/html": "<div>\n<style scoped>\n    .dataframe tbody tr th:only-of-type {\n        vertical-align: middle;\n    }\n\n    .dataframe tbody tr th {\n        vertical-align: top;\n    }\n\n    .dataframe thead th {\n        text-align: right;\n    }\n</style>\n<table border=\"1\" class=\"dataframe\">\n  <thead>\n    <tr style=\"text-align: right;\">\n      <th></th>\n      <th>State_Name</th>\n      <th>District_Name</th>\n      <th>Crop_Year</th>\n      <th>Season</th>\n      <th>Crop</th>\n      <th>Area(ha)</th>\n      <th>Production(tonnes)</th>\n      <th>Avg_Prep(mm)</th>\n      <th>Avg_temp(C)</th>\n      <th>Yield(tonnes/ha)</th>\n    </tr>\n  </thead>\n  <tbody>\n    <tr>\n      <th>0</th>\n      <td>Maharashtra</td>\n      <td>AHMEDNAGAR</td>\n      <td>1997.0</td>\n      <td>Kharif</td>\n      <td>Arhar/Tur</td>\n      <td>17600.0</td>\n      <td>6300.0</td>\n      <td>136.30175</td>\n      <td>25.65</td>\n      <td>0.357955</td>\n    </tr>\n    <tr>\n      <th>1</th>\n      <td>Maharashtra</td>\n      <td>AHMEDNAGAR</td>\n      <td>1997.0</td>\n      <td>Kharif</td>\n      <td>Bajra</td>\n      <td>274100.0</td>\n      <td>152800.0</td>\n      <td>136.30175</td>\n      <td>25.65</td>\n      <td>0.557461</td>\n    </tr>\n    <tr>\n      <th>2</th>\n      <td>Maharashtra</td>\n      <td>AHMEDNAGAR</td>\n      <td>1997.0</td>\n      <td>Kharif</td>\n      <td>Gram</td>\n      <td>40800.0</td>\n      <td>18600.0</td>\n      <td>136.30175</td>\n      <td>25.65</td>\n      <td>0.455882</td>\n    </tr>\n    <tr>\n      <th>3</th>\n      <td>Maharashtra</td>\n      <td>AHMEDNAGAR</td>\n      <td>1997.0</td>\n      <td>Kharif</td>\n      <td>Jowar</td>\n      <td>900.0</td>\n      <td>1100.0</td>\n      <td>136.30175</td>\n      <td>25.65</td>\n      <td>1.222222</td>\n    </tr>\n    <tr>\n      <th>4</th>\n      <td>Maharashtra</td>\n      <td>AHMEDNAGAR</td>\n      <td>1997.0</td>\n      <td>Kharif</td>\n      <td>Maize</td>\n      <td>4400.0</td>\n      <td>4700.0</td>\n      <td>136.30175</td>\n      <td>25.65</td>\n      <td>1.068182</td>\n    </tr>\n  </tbody>\n</table>\n</div>",
      "text/plain": "    State_Name District_Name  Crop_Year       Season       Crop  Area(ha)  \\\n0  Maharashtra    AHMEDNAGAR     1997.0  Kharif       Arhar/Tur   17600.0   \n1  Maharashtra    AHMEDNAGAR     1997.0  Kharif           Bajra  274100.0   \n2  Maharashtra    AHMEDNAGAR     1997.0  Kharif            Gram   40800.0   \n3  Maharashtra    AHMEDNAGAR     1997.0  Kharif           Jowar     900.0   \n4  Maharashtra    AHMEDNAGAR     1997.0  Kharif           Maize    4400.0   \n\n   Production(tonnes)  Avg_Prep(mm)  Avg_temp(C)  Yield(tonnes/ha)  \n0              6300.0     136.30175        25.65          0.357955  \n1            152800.0     136.30175        25.65          0.557461  \n2             18600.0     136.30175        25.65          0.455882  \n3              1100.0     136.30175        25.65          1.222222  \n4              4700.0     136.30175        25.65          1.068182  "
     },
     "execution_count": 8,
     "metadata": {},
     "output_type": "execute_result"
    }
   ],
   "source": [
    "import pandas as pd\n",
    "import matplotlib.pyplot as plt\n",
    "import numpy as np\n",
    "from sklearn import linear_model\n",
    "from sklearn.metrics import mean_squared_error, r2_score\n",
    "import matplotlib as mpl\n",
    "from mpl_toolkits.mplot3d import Axes3D\n",
    "spreadsheet = pd.ExcelFile('Datasets/Dataset(Module-1).xlsx')\n",
    "df2 = spreadsheet.parse('Sheet1')\n",
    "df2.head()"
   ]
  },
  {
   "cell_type": "code",
   "execution_count": 9,
   "metadata": {},
   "outputs": [
    {
     "name": "stdout",
     "output_type": "stream",
     "text": "[['Arhar/Tur', 'Kharif']]\n[['Arhar/Tur', 'Kharif'], ['Bajra', 'Kharif']]\n[['Arhar/Tur', 'Kharif'], ['Bajra', 'Kharif'], ['Gram', 'Kharif']]\n[['Arhar/Tur', 'Kharif'], ['Bajra', 'Kharif'], ['Gram', 'Kharif'], ['Jowar', 'Kharif']]\n[['Arhar/Tur', 'Kharif'], ['Bajra', 'Kharif'], ['Gram', 'Kharif'], ['Jowar', 'Kharif'], ['Maize', 'Kharif']]\nlength of set : 41\nArhar/Tur   Kharif\nBajra   Kharif\nCastor seed   Kharif\nCotton(lint)   Kharif\nCotton(lint)   Whole Year\nGram   Kharif\nGram   Rabi\nGroundnut   Kharif\nGroundnut   Summer\nJowar   Kharif\nJowar   Rabi\nLinseed   Rabi\nMaize   Kharif\nMaize   Rabi\nMaize   Summer\nMoong(Green Gram)   Kharif\nNiger seed   Kharif\nOther  Rabi pulses   Rabi\nOther Cereals & Millets   Kharif\nOther Cereals & Millets   Rabi\nOther Kharif pulses   Kharif\nPulses total   Kharif\nRagi   Kharif\nRapeseed &Mustard   Rabi\nRice   Kharif\nRice   Summer\nSafflower   Rabi\nSesamum   Kharif\nSesamum   Rabi\nSmall millets   Kharif\nSmall millets   Rabi\nSoyabean   Kharif\nSugarcane   Kharif\nSugarcane   Whole Year\nSunflower   Kharif\nSunflower   Rabi\nSunflower   Summer\nTotal foodgrain   Kharif\nUrad   Kharif\nWheat   Rabi\nnan   nan\n"
    }
   ],
   "source": [
    "crops_combo=[]\n",
    "crop_season=[]\n",
    "t=0\n",
    "for row in df2.itertuples():\n",
    "    #use row[5] strip\n",
    "    crop_season.append(str(row[5]).strip())\n",
    "    #use row[4] strip\n",
    "    crop_season.append(str(row[4]).strip())\n",
    "    crops_combo.append(crop_season)\n",
    "    crop_season=[]\n",
    "    if t<5:\n",
    "        print(crops_combo)\n",
    "        t+=1\n",
    "a = set(tuple(i) for i in crops_combo)\n",
    "print('length of set :',len(a))\n",
    "for l in sorted(a):\n",
    "    print(l[0],\" \",l[1])"
   ]
  },
  {
   "cell_type": "code",
   "execution_count": null,
   "metadata": {},
   "outputs": [],
   "source": []
  },
  {
   "cell_type": "code",
   "execution_count": 10,
   "metadata": {},
   "outputs": [
    {
     "name": "stdout",
     "output_type": "stream",
     "text": "Mean squared error of linear regression: 0.23\nMean squared error of ramsac regression: 0.21\nVariance score of linear regr: -23.78\nVariance score of ransac: -21.40\nMean squared error of linear regression: 0.04\nMean squared error of ramsac regression: 0.01\nVariance score of linear regr: -2.38\nVariance score of ransac: 0.01\nMean squared error of linear regression: 0.14\nMean squared error of ramsac regression: 0.05\nVariance score of linear regr: -18.58\nVariance score of ransac: -5.95\nMean squared error of linear regression: 0.03\nMean squared error of ramsac regression: 0.05\nVariance score of linear regr: 0.08\nVariance score of ransac: -0.75\nMean squared error of linear regression: 21406.15\nMean squared error of ramsac regression: 21516.12\nVariance score of linear regr: -2.13\nVariance score of ransac: -2.15\nMean squared error of linear regression: 19.44\nMean squared error of ramsac regression: 0.03\nVariance score of linear regr: -2055.19\nVariance score of ransac: -1.88\nMean squared error of linear regression: 14.65\nMean squared error of ramsac regression: 0.00\nVariance score of linear regr: -8862.18\nVariance score of ransac: -0.96\nMean squared error of linear regression: 7.50\nMean squared error of ramsac regression: 0.05\nVariance score of linear regr: -254.75\nVariance score of ransac: -0.70\nMean squared error of linear regression: 0.20\nMean squared error of ramsac regression: 0.08\nVariance score of linear regr: -1.38\nVariance score of ransac: 0.01\nMean squared error of linear regression: 3.38\nMean squared error of ramsac regression: 0.07\nVariance score of linear regr: -1549.79\nVariance score of ransac: -32.34\nMean squared error of linear regression: 2.74\nMean squared error of ramsac regression: 0.16\nVariance score of linear regr: 0.00\nVariance score of ransac: 0.00\nMean squared error of linear regression: 3.89\nMean squared error of ramsac regression: 0.08\nVariance score of linear regr: -690.05\nVariance score of ransac: -12.80\nMean squared error of linear regression: 1.76\nMean squared error of ramsac regression: 1.29\nVariance score of linear regr: -3.18\nVariance score of ransac: -2.07\nMean squared error of linear regression: 0.82\nMean squared error of ramsac regression: 1.17\nVariance score of linear regr: -3.94\nVariance score of ransac: -6.02\nMean squared error of linear regression: 0.05\nMean squared error of ramsac regression: 0.84\nVariance score of linear regr: -0.65\nVariance score of ransac: -27.16\nMean squared error of linear regression: 3.68\nMean squared error of ramsac regression: 0.08\nVariance score of linear regr: -190.71\nVariance score of ransac: -3.07\nMean squared error of linear regression: 4.28\nMean squared error of ramsac regression: 0.24\nVariance score of linear regr: -23.18\nVariance score of ransac: -0.37\nMean squared error of linear regression: 1.67\nMean squared error of ramsac regression: 0.01\nVariance score of linear regr: -239.20\nVariance score of ransac: -0.21\nMean squared error of linear regression: 4.04\nMean squared error of ramsac regression: 0.02\nVariance score of linear regr: -860.48\nVariance score of ransac: -3.56\nMean squared error of linear regression: 0.65\nMean squared error of ramsac regression: 0.30\nVariance score of linear regr: -26.81\nVariance score of ransac: -11.82\nMean squared error of linear regression: 2.77\nMean squared error of ramsac regression: 0.10\nVariance score of linear regr: -259.29\nVariance score of ransac: -8.39\nMean squared error of linear regression: 3.06\nMean squared error of ramsac regression: 0.10\nVariance score of linear regr: -216.60\nVariance score of ransac: -6.11\nMean squared error of linear regression: 0.97\nMean squared error of ramsac regression: 0.92\nVariance score of linear regr: -70.45\nVariance score of ransac: -67.02\nMean squared error of linear regression: 1.83\nMean squared error of ramsac regression: 0.09\nVariance score of linear regr: -84.74\nVariance score of ransac: -3.23\nMean squared error of linear regression: 1.62\nMean squared error of ramsac regression: 0.16\nVariance score of linear regr: -101.97\nVariance score of ransac: -8.86\nMean squared error of linear regression: 0.57\nMean squared error of ramsac regression: 1.14\nVariance score of linear regr: -7.63\nVariance score of ransac: -16.39\nMean squared error of linear regression: 0.54\nMean squared error of ramsac regression: 0.04\nVariance score of linear regr: -18.61\nVariance score of ransac: -0.44\nMean squared error of linear regression: 2.86\nMean squared error of ramsac regression: 0.03\nVariance score of linear regr: -1333.43\nVariance score of ransac: -10.84\nMean squared error of linear regression: 0.65\nMean squared error of ramsac regression: 0.15\nVariance score of linear regr: -3.79\nVariance score of ransac: -0.11\nMean squared error of linear regression: 1.51\nMean squared error of ramsac regression: 0.02\nVariance score of linear regr: -127.93\nVariance score of ransac: -0.72\nMean squared error of linear regression: 0.75\nMean squared error of ramsac regression: 0.06\nVariance score of linear regr: -20.48\nVariance score of ransac: -0.63\nMean squared error of linear regression: 0.40\nMean squared error of ramsac regression: 0.63\nVariance score of linear regr: -101.63\nVariance score of ransac: -162.86\nMean squared error of linear regression: 4898.11\nMean squared error of ramsac regression: 5255.96\nVariance score of linear regr: -2.74\nVariance score of ransac: -3.02\nMean squared error of linear regression: 4593.82\nMean squared error of ramsac regression: 5072.42\nVariance score of linear regr: -7.30\nVariance score of ransac: -8.16\nMean squared error of linear regression: 10.62\nMean squared error of ramsac regression: 0.04\nVariance score of linear regr: -989.47\nVariance score of ransac: -2.70\nMean squared error of linear regression: 14.21\nMean squared error of ramsac regression: 0.00\nVariance score of linear regr: -2727.02\nVariance score of ransac: 0.26\nMean squared error of linear regression: 9.92\nMean squared error of ramsac regression: 1.41\nVariance score of linear regr: -58.04\nVariance score of ransac: -7.42\nMean squared error of linear regression: 15.71\nMean squared error of ramsac regression: 0.03\nVariance score of linear regr: -512.74\nVariance score of ransac: -0.14\nMean squared error of linear regression: 9.03\nMean squared error of ramsac regression: 0.05\nVariance score of linear regr: -340.98\nVariance score of ransac: -0.78\nMean squared error of linear regression: 8.38\nMean squared error of ramsac regression: 0.44\nVariance score of linear regr: -3444.81\nVariance score of ransac: -181.31\nMean squared error of linear regression: 18.11\nMean squared error of ramsac regression: 0.61\nVariance score of linear regr: -58.52\nVariance score of ransac: -1.02\n"
    }
   ],
   "source": [
    "ar = []\n",
    "ar2d = []\n",
    "\n",
    "x_list=[]\n",
    "z_list=[]\n",
    "i=0\n",
    "y_list=[]\n",
    "\n",
    "model_list = []\n",
    "for l in sorted(a):\n",
    "    for row in df2.itertuples():\n",
    "        if str(row[5]).strip()==l[0] and str(row[4]).strip()==l[1]:\n",
    "            ar.append(row[8])\n",
    "            x_list.append(row[8])\n",
    "            ar.append(row[9])\n",
    "            z_list.append(row[9])\n",
    "            y_list.append(row[10])\n",
    "            ar2d.append(ar)\n",
    "            ar = []\n",
    "    if len(ar2d) < 10:\n",
    "        continue\n",
    "    \n",
    "    nar2d = np.array(ar2d)\n",
    "    nar2d = np.nan_to_num(nar2d)\n",
    "    ny = np.array(y_list)\n",
    "    ny = np.nan_to_num(ny)\n",
    "    \n",
    "    X_train = nar2d[:-4]\n",
    "    X_test = nar2d[-4:]\n",
    "\n",
    "    y_train = ny[:-4]\n",
    "    y_test = ny[-4:]\n",
    "\n",
    "    # Fit line using all data\n",
    "    lr = linear_model.LinearRegression()\n",
    "    lr.fit(X_train, y_train)\n",
    "    \n",
    "    line_y = lr.predict(X_test)\n",
    "\n",
    "    # Robustly fit linear model with RANSAC algorithm\n",
    "    ransac = linear_model.RANSACRegressor()\n",
    "    ransac.fit(X_train, y_train)\n",
    "    inlier_mask = ransac.inlier_mask_\n",
    "    outlier_mask = np.logical_not(inlier_mask)\n",
    "\n",
    "    line_y_ransac = ransac.predict(X_test)\n",
    "    \n",
    "    model_list.append([ransac,l[0],l[1]])\n",
    "    #print(\"ransac prediction\")\n",
    "    #print(line_y_ransac)\n",
    "    # Compare estimated coefficients\n",
    "    #print(\"Estimated coefficients (linear regression, RANSAC):\")\n",
    "    #print(lr.coef_, ransac.estimator_.coef_)\n",
    "\n",
    "    # The mean squared error\n",
    "    print(\"Mean squared error of linear regression: %.2f\"\n",
    "          % mean_squared_error(y_test, line_y))\n",
    "    print(\"Mean squared error of ramsac regression: %.2f\"\n",
    "          % mean_squared_error(y_test, line_y_ransac))\n",
    "    # Explained variance score: 1 is perfect prediction\n",
    "    print('Variance score of linear regr: %.2f' % r2_score(y_test, line_y))\n",
    "    print('Variance score of ransac: %.2f' % r2_score(y_test, line_y_ransac))"
   ]
  },
  {
   "cell_type": "code",
   "execution_count": 11,
   "metadata": {},
   "outputs": [
    {
     "name": "stdout",
     "output_type": "stream",
     "text": "[0.704846]   Groundnut   Kharif\n[0.64642302]   Pulses total   Kharif\n[0.61567893]   Jowar   Rabi\n[0.5904484]   Jowar   Kharif\n[0.5835107]   Other Kharif pulses   Kharif\n[0.56725572]   Maize   Kharif\n[0.56104861]   Sunflower   Kharif\n[0.55766777]   Sunflower   Rabi\n[0.55719728]   Groundnut   Summer\n[0.53869078]   Other Cereals & Millets   Rabi\n[0.52423915]   Ragi   Kharif\n[0.51848464]   Gram   Rabi\n[0.51230224]   Small millets   Rabi\n[0.50612166]   Rapeseed &Mustard   Rabi\n[0.47971602]   Other Cereals & Millets   Kharif\n[0.47575773]   Linseed   Rabi\n[0.46289253]   Sugarcane   Whole Year\n[0.4537122]   Wheat   Rabi\n[0.45233504]   Soyabean   Kharif\n[0.44104368]   Niger seed   Kharif\n[0.44027331]   Other  Rabi pulses   Rabi\n[0.42919065]   Sugarcane   Kharif\n[0.41295095]   Bajra   Kharif\n[0.40850196]   Maize   Summer\n[0.3987801]   Rice   Kharif\n[0.39438878]   Urad   Kharif\n[0.3836651]   Sesamum   Kharif\n[0.37775079]   Rice   Summer\n[0.37768354]   Safflower   Rabi\n[0.37110551]   Castor seed   Kharif\n[0.3707765]   Small millets   Kharif\n[0.3552841]   Maize   Rabi\n[0.33308707]   Sesamum   Rabi\n[0.32597695]   Moong(Green Gram)   Kharif\n[0.30900606]   Sunflower   Summer\n[0.30811217]   Total foodgrain   Kharif\n[0.26463324]   Gram   Kharif\n[0.26028001]   nan   nan\n[0.10996033]   Cotton(lint)   Whole Year\n[0.05661468]   Arhar/Tur   Kharif\n[0.04900749]   Cotton(lint)   Kharif\n"
    }
   ],
   "source": [
    "def yieldPredict(test_input):\n",
    "    y_predicted = []\n",
    "    for m in model_list:\n",
    "        ys = m[0].predict(test_input)\n",
    "        y_predicted.append([ys,m[1],m[2]])\n",
    "        #print(m[1], m[2])\n",
    "        #print(ys)\n",
    "    y_predicted.sort(reverse=True)\n",
    "    for i in y_predicted:\n",
    "        print(i[0], \" \", i[1], \" \", i[2])\n",
    "        \n",
    "yieldPredict([[1,25]])"
   ]
  },
  {
   "cell_type": "code",
   "execution_count": null,
   "metadata": {},
   "outputs": [],
   "source": []
  }
 ],
 "metadata": {
  "kernelspec": {
   "display_name": "Python 3",
   "language": "python",
   "name": "python3"
  },
  "language_info": {
   "codemirror_mode": {
    "name": "ipython",
    "version": 3
   },
   "file_extension": ".py",
   "mimetype": "text/x-python",
   "name": "python",
   "nbconvert_exporter": "python",
   "pygments_lexer": "ipython3",
   "version": "3.6.4"
  }
 },
 "nbformat": 4,
 "nbformat_minor": 2
}